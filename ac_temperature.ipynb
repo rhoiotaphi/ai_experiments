{
  "nbformat": 4,
  "nbformat_minor": 0,
  "metadata": {
    "colab": {
      "provenance": [],
      "authorship_tag": "ABX9TyO6riNID9aEZMkIXwdXQRIq",
      "include_colab_link": true
    },
    "kernelspec": {
      "name": "python3",
      "display_name": "Python 3"
    },
    "language_info": {
      "name": "python"
    }
  },
  "cells": [
    {
      "cell_type": "markdown",
      "metadata": {
        "id": "view-in-github",
        "colab_type": "text"
      },
      "source": [
        "<a href=\"https://colab.research.google.com/github/rhoiotaphi/ai_experiments/blob/main/ac_temperature.ipynb\" target=\"_parent\"><img src=\"https://colab.research.google.com/assets/colab-badge.svg\" alt=\"Open In Colab\"/></a>"
      ]
    },
    {
      "cell_type": "code",
      "execution_count": null,
      "metadata": {
        "colab": {
          "base_uri": "https://localhost:8080/"
        },
        "id": "ErXiekHA3opL",
        "outputId": "3d539f6e-8803-4e51-eb3e-f518277e94b8"
      },
      "outputs": [
        {
          "output_type": "stream",
          "name": "stdout",
          "text": [
            "Set the AC temperature to 22°C.\n"
          ]
        }
      ],
      "source": [
        "def set_ac_temperature(current_time, outside_temperature):\n",
        "    \"\"\"\n",
        "    Sets the AC temperature based on the time of day and outside temperature.\n",
        "\n",
        "    Parameters:\n",
        "    - current_time: float, represents the current time in 24-hour format (e.g., 13.5 for 1:30 PM)\n",
        "    - outside_temperature: float, represents the outside temperature in degrees Celsius\n",
        "\n",
        "    Returns:\n",
        "    - ac_temperature: float, the temperature to which the AC should be set\n",
        "    \"\"\"\n",
        "    if 6 <= current_time < 22:  # Daytime: from 6:00 AM to 9:59 PM\n",
        "        if outside_temperature < -5:\n",
        "            ac_temperature = 24  # Increase temperature due to cold outside\n",
        "        else:\n",
        "            ac_temperature = 22  # Standard daytime setting\n",
        "    else:  # Nighttime: from 10:00 PM to 5:59 AM\n",
        "        ac_temperature = 18  # Standard nighttime setting\n",
        "\n",
        "    return ac_temperature\n",
        "\n",
        "# Example usage\n",
        "current_time = 15.0  # 3:00 PM\n",
        "outside_temperature = 30  # 30°C\n",
        "ac_temperature = set_ac_temperature(current_time, outside_temperature)\n",
        "print(f\"Set the AC temperature to {ac_temperature}°C.\")"
      ]
    },
    {
      "cell_type": "code",
      "source": [
        "# Import necessary libraries\n",
        "import pandas as pd\n",
        "from sklearn.model_selection import train_test_split\n",
        "from sklearn.linear_model import LinearRegression\n",
        "import numpy as np\n",
        "\n",
        "# Generate mock data\n",
        "np.random.seed(0)  # For reproducibility\n",
        "data_size = 100\n",
        "# Random times of the day\n",
        "times_of_day = np.random.uniform(0, 24, data_size)\n",
        "# Random outside temperatures\n",
        "outside_temperatures = np.random.uniform(-10, 40, data_size)\n",
        "# Generate AC settings based on simplified rules for demonstration\n",
        "ac_settings = np.where((6 <= times_of_day) & (times_of_day < 22),\n",
        "                       np.where(outside_temperatures < -5, 24, 22), 18)\n",
        "\n",
        "# Create a DataFrame\n",
        "df = pd.DataFrame({'TimeOfDay': times_of_day, 'OutsideTemperature': outside_temperatures, 'ACSetting': ac_settings})\n",
        "\n",
        "# Split the data into training and testing sets\n",
        "X = df[['TimeOfDay', 'OutsideTemperature']]\n",
        "y = df['ACSetting']\n",
        "X_train, X_test, y_train, y_test = train_test_split(X, y, test_size=0.2, random_state=0)\n",
        "\n",
        "# Train a linear regression model\n",
        "model = LinearRegression()\n",
        "model.fit(X_train, y_train)\n",
        "\n",
        "# Predict the AC setting with a sample input\n",
        "sample_input = np.array([[15.0, 30]])  # 3:00 PM and 30°C outside\n",
        "predicted_ac_setting = model.predict(sample_input)\n",
        "\n",
        "print(f\"Predicted AC setting: {predicted_ac_setting[0]:.2f}°C\")\n"
      ],
      "metadata": {
        "colab": {
          "base_uri": "https://localhost:8080/"
        },
        "id": "jZAqmBs64-HO",
        "outputId": "20893413-2031-4087-b725-f867b24dbced"
      },
      "execution_count": null,
      "outputs": [
        {
          "output_type": "stream",
          "name": "stdout",
          "text": [
            "Predicted AC setting: 21.26°C\n"
          ]
        },
        {
          "output_type": "stream",
          "name": "stderr",
          "text": [
            "/usr/local/lib/python3.10/dist-packages/sklearn/base.py:439: UserWarning: X does not have valid feature names, but LinearRegression was fitted with feature names\n",
            "  warnings.warn(\n"
          ]
        }
      ]
    },
    {
      "cell_type": "code",
      "source": [
        "def predict_disposition(judgment_text):\n",
        "    \"\"\"\n",
        "    Predicts the disposition of a judgment based on the presence of specific keywords.\n",
        "\n",
        "    Parameters:\n",
        "    - judgment_text: str, the last part of a judgment\n",
        "\n",
        "    Returns:\n",
        "    - disposition: str, the predicted disposition (either \"Respondent Won\", \"Petitioner Won\", or \"Undetermined\")\n",
        "    \"\"\"\n",
        "    # Keywords indicating a win for the respondent\n",
        "    respondent_keywords = [\"dismissed\", \"rejected\"]\n",
        "    # Keywords indicating a win for the petitioner\n",
        "    petitioner_keywords = [\"allowed\", \"granted\"]\n",
        "    # Words that negate the meaning\n",
        "    negation_words = [\"not\", \"never\", \"no\"]\n",
        "\n",
        "    # Convert the judgment text to lower case for case-insensitive matching\n",
        "    judgment_text_lower = judgment_text.lower()\n",
        "\n",
        "    # Check for negation words\n",
        "    has_negation = any(negation_word in judgment_text_lower for negation_word in negation_words)\n",
        "\n",
        "    # Check for keywords and determine disposition\n",
        "    if any(keyword in judgment_text_lower for keyword in respondent_keywords):\n",
        "        return \"Petitioner Won\" if has_negation else \"Respondent Won\"\n",
        "    elif any(keyword in judgment_text_lower for keyword in petitioner_keywords):\n",
        "        return \"Respondent Won\" if has_negation else \"Petitioner Won\"\n",
        "    else:\n",
        "        return \"Undetermined\"\n",
        "\n",
        "# Example usage\n",
        "judgment_examples = [\n",
        "    \"The case is dismissed.\",\n",
        "    \"The application is not allowed.\",\n",
        "    \"The appeal is granted.\",\n",
        "    \"The motion is rejected.\",\n",
        "    \"There is no basis for the claim, and it is therefore dismissed.\"\n",
        "]\n",
        "\n",
        "for judgment in judgment_examples:\n",
        "    print(f\"Judgment: {judgment}\\nDisposition: {predict_disposition(judgment)}\\n\")\n"
      ],
      "metadata": {
        "id": "eouHdNRA6hpp"
      },
      "execution_count": null,
      "outputs": []
    }
  ]
}